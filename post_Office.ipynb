{
 "cells": [
  {
   "cell_type": "code",
   "execution_count": null,
   "id": "73cb0a97-c008-4722-81dc-9ac07012370b",
   "metadata": {},
   "outputs": [],
   "source": [
    "!pip install pyperclip"
   ]
  },
  {
   "cell_type": "code",
   "execution_count": null,
   "id": "202c0f4f-45c1-4318-8d2f-ee02bdd6969e",
   "metadata": {},
   "outputs": [],
   "source": [
    "!pip uninstall selenium"
   ]
  },
  {
   "cell_type": "code",
   "execution_count": null,
   "id": "f47be415-5288-4395-8e1a-6d525a7e3679",
   "metadata": {},
   "outputs": [],
   "source": [
    "from selenium import webdriver\n",
    "import time\n",
    "import csv\n",
    "import os\n",
    "import openpyxl\n",
    "import pyperclip"
   ]
  },
  {
   "cell_type": "code",
   "execution_count": null,
   "id": "69d30697-b66f-43c5-acb5-52976be5924c",
   "metadata": {},
   "outputs": [],
   "source": [
    "driver = webdriver.Chrome()\n",
    "driver.get('https://mis.cept.gov.in')"
   ]
  },
  {
   "cell_type": "code",
   "execution_count": null,
   "id": "ecfe43a5-0489-4310-a2c0-c9a03cec47bc",
   "metadata": {},
   "outputs": [],
   "source": [
    "os.chdir('D:\\\\! !NITIN_CHAND\\\\done\\\\indiapost')\n",
    "new_path = 'D:\\\\! !NITIN_CHAND\\\\done\\\\indiapost'"
   ]
  },
  {
   "cell_type": "code",
   "execution_count": null,
   "id": "4043b52b-8280-4906-9f84-cd7b577c5cf7",
   "metadata": {},
   "outputs": [],
   "source": [
    "driver.find_element('xpath','//select[@name=\"ctl00$ContentPlaceHolder1$DDLCircle\"]').click()\n",
    "time.sleep(1)\n",
    "Circle = driver.find_elements('xpath','//select[@name=\"ctl00$ContentPlaceHolder1$DDLCircle\"]/option')\n",
    "\n",
    "for c in range(2,len(Circle)+1):\n",
    "    time.sleep(2)\n",
    "    driver.find_element('xpath',f'//select[@name=\"ctl00$ContentPlaceHolder1$DDLCircle\"]/option{[c]}').click()\n",
    "    time.sleep(2)\n",
    "\n",
    "    driver.find_element('xpath','//select[@name=\"ctl00$ContentPlaceHolder1$DDLRegion\"]').click()\n",
    "    time.sleep(2)\n",
    "    Region = driver.find_elements('xpath','//select[@name=\"ctl00$ContentPlaceHolder1$DDLRegion\"]/option')\n",
    "\n",
    "    for R in range(2,len(Region)+1):\n",
    "        time.sleep(2)\n",
    "        driver.find_element('xpath',f'//select[@name=\"ctl00$ContentPlaceHolder1$DDLRegion\"]/option{[R]}').click()\n",
    "        time.sleep(2)\n",
    "        \n",
    "        driver.find_element('xpath','//select[@name=\"ctl00$ContentPlaceHolder1$DDLDivision\"]').click()\n",
    "        time.sleep(2)\n",
    "        Division = driver.find_elements('xpath','//select[@name=\"ctl00$ContentPlaceHolder1$DDLDivision\"]/option')\n",
    "\n",
    "        for D in range(2,len(Division)+1):\n",
    "            time.sleep(2)\n",
    "            driver.find_element('xpath',f'//select[@name=\"ctl00$ContentPlaceHolder1$DDLDivision\"]/option{[D]}').click()\n",
    "            time.sleep(2)\n",
    "\n",
    "            driver.find_element('xpath','//select[@name=\"ctl00$ContentPlaceHolder1$DDLSubDivision\"]').click()\n",
    "            time.sleep(2)\n",
    "            driver.find_element('xpath','//select[@name=\"ctl00$ContentPlaceHolder1$DDLSubDivision\"]/option[2]').click()\n",
    "            time.sleep(2)\n",
    "            driver.find_element('xpath','//input[@type=\"submit\"]').click()\n",
    "            time.sleep(2)\n",
    "            driver.find_element('xpath','//button[@class=\"btn btn-secondary buttons-collection dropdown-toggle buttons-page-length\"]').click()\n",
    "            time.sleep(2)\n",
    "            driver.find_element('xpath','//div[@class=\"dropdown-menu\"]/a[4]').click()\n",
    "            time.sleep(3)\n",
    "            #opening the file\n",
    "            wb = openpyxl.Workbook()\n",
    "            # Select active sheet \n",
    "            sheet = wb.active\n",
    "            #copy sheet from web\n",
    "            copy_websheet = driver.find_element('xpath','//button[@class=\"btn btn-secondary buttons-copy buttons-html5\"]').click()\n",
    "            #the worksheet from the web has been copy\n",
    "            #pasting the sheet in python \n",
    "            rows = clipboard_text.split(\"\\n\")\n",
    "\n",
    "            for row_idx, row in enumerate(rows):\n",
    "                columns = row.split(\"\\t\")  # Assuming tab-separated columns\n",
    "                for col_idx, cell in enumerate(columns):\n",
    "                    sheet.cell(row=row_idx + 1, column=col_idx + 1).value = cell  # Write to corresponding Excel cell\n",
    "\n",
    "\n",
    "            name1 = driver.find_element('xpath',f'//select[@id=\"ContentPlaceHolder1_DDLCircle\"]/option{[c]}').text\n",
    "            name2 = driver.find_element('xpath',f'//select[@id=\"ContentPlaceHolder1_DDLRegion\"]/option{[R]}').text\n",
    "            name3 = driver.find_element('xpath',f'//select[@id=\"ContentPlaceHolder1_DDLDivision\"]/option{[D]}').text\n",
    "            print(name2)\n",
    "            #saving the opened file in new_path and renaming it\n",
    "            wb.save(f'{new_path}\\\\{name1+\"_\"+name2+\"_\"+name3+\".xlsx\"}')\n",
    "            # Close workbook when done\n",
    "            wb.close()"
   ]
  }
 ],
 "metadata": {
  "kernelspec": {
   "display_name": "Python 3 (ipykernel)",
   "language": "python",
   "name": "python3"
  },
  "language_info": {
   "codemirror_mode": {
    "name": "ipython",
    "version": 3
   },
   "file_extension": ".py",
   "mimetype": "text/x-python",
   "name": "python",
   "nbconvert_exporter": "python",
   "pygments_lexer": "ipython3",
   "version": "3.12.4"
  }
 },
 "nbformat": 4,
 "nbformat_minor": 5
}
